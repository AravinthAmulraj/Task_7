{
 "cells": [
  {
   "cell_type": "code",
   "execution_count": null,
   "metadata": {
    "id": "JolSMtbOfmc9"
   },
   "outputs": [],
   "source": [
    "#Social_Networks_Ads.csv"
   ]
  },
  {
   "cell_type": "markdown",
   "metadata": {
    "id": "h_3tQC1Kf0ut"
   },
   "source": [
    "**Importing the libraries**"
   ]
  },
  {
   "cell_type": "code",
   "execution_count": 18,
   "metadata": {
    "id": "EObl2Z6IfyG4"
   },
   "outputs": [],
   "source": [
    "import pandas as pd \n",
    "import numpy as np \n",
    "import matplotlib.pyplot as plt  \n",
    "import seaborn as sns \n",
    "\n",
    "from sklearn.neighbors import KNeighborsClassifier \n",
    "from sklearn.model_selection import train_test_split\n",
    "from sklearn.metrics import classification_report\n",
    "from sklearn.metrics import confusion_matrix\n",
    "from sklearn.metrics import accuracy_score\n",
    "\n",
    "from sklearn.model_selection import cross_val_score"
   ]
  },
  {
   "cell_type": "code",
   "execution_count": null,
   "metadata": {
    "id": "ULahHzTPfyJW"
   },
   "outputs": [],
   "source": []
  },
  {
   "cell_type": "markdown",
   "metadata": {
    "id": "yxzr0NOWf73l"
   },
   "source": [
    "**Importing the dataset**"
   ]
  },
  {
   "cell_type": "code",
   "execution_count": 19,
   "metadata": {
    "id": "nN9xC2r6fyMZ"
   },
   "outputs": [
    {
     "data": {
      "text/html": [
       "<div>\n",
       "<style scoped>\n",
       "    .dataframe tbody tr th:only-of-type {\n",
       "        vertical-align: middle;\n",
       "    }\n",
       "\n",
       "    .dataframe tbody tr th {\n",
       "        vertical-align: top;\n",
       "    }\n",
       "\n",
       "    .dataframe thead th {\n",
       "        text-align: right;\n",
       "    }\n",
       "</style>\n",
       "<table border=\"1\" class=\"dataframe\">\n",
       "  <thead>\n",
       "    <tr style=\"text-align: right;\">\n",
       "      <th></th>\n",
       "      <th>User ID</th>\n",
       "      <th>Gender</th>\n",
       "      <th>Age</th>\n",
       "      <th>EstimatedSalary</th>\n",
       "      <th>Purchased</th>\n",
       "    </tr>\n",
       "  </thead>\n",
       "  <tbody>\n",
       "    <tr>\n",
       "      <th>0</th>\n",
       "      <td>15624510</td>\n",
       "      <td>Male</td>\n",
       "      <td>19</td>\n",
       "      <td>19000</td>\n",
       "      <td>0</td>\n",
       "    </tr>\n",
       "    <tr>\n",
       "      <th>1</th>\n",
       "      <td>15810944</td>\n",
       "      <td>Male</td>\n",
       "      <td>35</td>\n",
       "      <td>20000</td>\n",
       "      <td>0</td>\n",
       "    </tr>\n",
       "    <tr>\n",
       "      <th>2</th>\n",
       "      <td>15668575</td>\n",
       "      <td>Female</td>\n",
       "      <td>26</td>\n",
       "      <td>43000</td>\n",
       "      <td>0</td>\n",
       "    </tr>\n",
       "    <tr>\n",
       "      <th>3</th>\n",
       "      <td>15603246</td>\n",
       "      <td>Female</td>\n",
       "      <td>27</td>\n",
       "      <td>57000</td>\n",
       "      <td>0</td>\n",
       "    </tr>\n",
       "    <tr>\n",
       "      <th>4</th>\n",
       "      <td>15804002</td>\n",
       "      <td>Male</td>\n",
       "      <td>19</td>\n",
       "      <td>76000</td>\n",
       "      <td>0</td>\n",
       "    </tr>\n",
       "  </tbody>\n",
       "</table>\n",
       "</div>"
      ],
      "text/plain": [
       "    User ID  Gender  Age  EstimatedSalary  Purchased\n",
       "0  15624510    Male   19            19000          0\n",
       "1  15810944    Male   35            20000          0\n",
       "2  15668575  Female   26            43000          0\n",
       "3  15603246  Female   27            57000          0\n",
       "4  15804002    Male   19            76000          0"
      ]
     },
     "execution_count": 19,
     "metadata": {},
     "output_type": "execute_result"
    }
   ],
   "source": [
    "df=pd.read_csv(\"Social_Network_Ads.csv\")\n",
    "df.head()"
   ]
  },
  {
   "cell_type": "code",
   "execution_count": 20,
   "metadata": {
    "id": "Z9gpSZOVfyPX"
   },
   "outputs": [],
   "source": [
    "df.drop('User ID', axis=1, inplace =True)\n",
    "df[\"Gender\"]=df[\"Gender\"].replace({\"Male\":0,\"Female\":1})"
   ]
  },
  {
   "cell_type": "markdown",
   "metadata": {
    "id": "_lrDXgjIgGJ3"
   },
   "source": [
    "**Splitting the dataset into the Training set and Test set**"
   ]
  },
  {
   "cell_type": "code",
   "execution_count": 21,
   "metadata": {
    "id": "z2QWVTZUfyUB"
   },
   "outputs": [],
   "source": [
    "X=df.iloc[:,:3].values\n",
    "y=df.iloc[:,3].values\n",
    "\n",
    "from sklearn.model_selection import train_test_split\n",
    "X_train,X_test,y_train,y_test=train_test_split(X,y,test_size=0.3,random_state=0)\n"
   ]
  },
  {
   "cell_type": "markdown",
   "metadata": {
    "id": "XmzkAVfggNrD"
   },
   "source": [
    "**Feature Scaling**"
   ]
  },
  {
   "cell_type": "code",
   "execution_count": 22,
   "metadata": {
    "id": "UZUJ4Xn4fyW6"
   },
   "outputs": [],
   "source": [
    "from sklearn.preprocessing import StandardScaler\n",
    "scaler = StandardScaler()\n",
    "X_train = scaler.fit_transform(X_train)\n",
    "X_test = scaler.fit_transform(X_test)"
   ]
  },
  {
   "cell_type": "markdown",
   "metadata": {
    "id": "BWpz-G_KgaB5"
   },
   "source": [
    "**Fitting K-NN to the Training set**"
   ]
  },
  {
   "cell_type": "code",
   "execution_count": 26,
   "metadata": {
    "id": "5Wo68lCqfyc6"
   },
   "outputs": [],
   "source": [
    "# Finding the best K value By plotting the Accuracy\n",
    "k_value = np.arange(1,25,2) #range(1,25), odd numbers are choosen for r values since it ios a binary classification \n",
    "#since we have even number of output class (6) I take k values as output numbers\n",
    "k_score_1=[]\n",
    "k_score_2=[]\n",
    "\n",
    "# Change the value of p to change the plot of accuracy and error from manhattan to Euclidian if needed."
   ]
  },
  {
   "cell_type": "code",
   "execution_count": 27,
   "metadata": {
    "scrolled": true
   },
   "outputs": [
    {
     "name": "stdout",
     "output_type": "stream",
     "text": [
      "Score for manhattan method\n",
      "    k_value   K_score\n",
      "0         1  0.853571\n",
      "1         3  0.882143\n",
      "2         5  0.900000\n",
      "3         7  0.896429\n",
      "4         9  0.900000\n",
      "5        11  0.903571\n",
      "6        13  0.892857\n",
      "7        15  0.885714\n",
      "8        17  0.882143\n",
      "9        19  0.867857\n",
      "10       21  0.867857\n",
      "11       23  0.850000\n"
     ]
    },
    {
     "data": {
      "image/png": "[encoded data removed]",
      "text/plain": [
       "<Figure size 720x648 with 1 Axes>"
      ]
     },
     "metadata": {
      "needs_background": "light"
     },
     "output_type": "display_data"
    }
   ],
   "source": [
    "#for manhattan_distance \n",
    "for i in k_value:\n",
    "  model_1 = KNeighborsClassifier(n_neighbors=i, p=1,metric='minkowski') \n",
    "  # score = accuracy \n",
    "  scores = cross_val_score(model_1,X_train,y_train,cv=5,scoring='accuracy')\n",
    "  k_score_1.append(scores.mean())\n",
    "\n",
    "df_score_1= pd.DataFrame({'k_value': k_value, 'K_score':k_score_1})\n",
    "print(\"Score for manhattan method\")\n",
    "print(df_score_1)  \n",
    "\n",
    "plt.figure(figsize=(10,9))\n",
    "plt.plot(k_value,k_score_1)\n",
    "plt.xlabel('Value of K')\n",
    "plt.ylabel('Cross validation accuracy score')\n",
    "plt.grid(True)\n",
    "plt.show()\n",
    "     "
   ]
  },
  {
   "cell_type": "code",
   "execution_count": 12,
   "metadata": {},
   "outputs": [
    {
     "name": "stdout",
     "output_type": "stream",
     "text": [
      "Score for euclidian method\n",
      "    k_value   K_score\n",
      "0         1  0.850000\n",
      "1         3  0.885714\n",
      "2         5  0.900000\n",
      "3         7  0.903571\n",
      "4         9  0.896429\n",
      "5        11  0.900000\n",
      "6        13  0.900000\n",
      "7        15  0.885714\n",
      "8        17  0.871429\n",
      "9        19  0.871429\n",
      "10       21  0.857143\n",
      "11       23  0.864286\n"
     ]
    },
    {
     "data": {
      "image/png": "[encoded data removed]",
      "text/plain": [
       "<Figure size 720x648 with 1 Axes>"
      ]
     },
     "metadata": {
      "needs_background": "light"
     },
     "output_type": "display_data"
    }
   ],
   "source": [
    "#for euclidian distance \n",
    "for i in k_value:\n",
    "  model_1 = KNeighborsClassifier(n_neighbors=i, p=2,metric='minkowski') \n",
    "  # score = accuracy \n",
    "  scores = cross_val_score(model_1,X_train,y_train,cv=5,scoring='accuracy')\n",
    "  k_score_2.append(scores.mean())\n",
    "\n",
    "df_score_2= pd.DataFrame({'k_value': k_value, 'K_score':k_score_2})\n",
    "print(\"Score for euclidian method\")\n",
    "print(df_score_2) \n",
    "\n",
    "plt.figure(figsize=(10,9))\n",
    "plt.plot(k_value,k_score_2)\n",
    "plt.xlabel('Value of K')\n",
    "plt.ylabel('Cross validation accuracy score')\n",
    "plt.grid(True)\n",
    "plt.show()"
   ]
  },
  {
   "cell_type": "markdown",
   "metadata": {
    "id": "GoGxoF-kgmlj"
   },
   "source": [
    "**Predicting the Test set results**"
   ]
  },
  {
   "cell_type": "code",
   "execution_count": 28,
   "metadata": {
    "id": "aEOlRLkefye3"
   },
   "outputs": [
    {
     "data": {
      "text/plain": [
       "KNeighborsClassifier(n_neighbors=11, p=1)"
      ]
     },
     "execution_count": 28,
     "metadata": {},
     "output_type": "execute_result"
    }
   ],
   "source": [
    "# lets take manhattan with k value as 11 here , which gives higher value as it appears in the graph\n",
    "model = KNeighborsClassifier(n_neighbors=11, p=1,metric='minkowski') \n",
    "model.fit(X_train,y_train)"
   ]
  },
  {
   "cell_type": "code",
   "execution_count": 29,
   "metadata": {},
   "outputs": [],
   "source": [
    "y_pred =model.predict(X_test)"
   ]
  },
  {
   "cell_type": "markdown",
   "metadata": {
    "id": "cYfKp7MQgwX7"
   },
   "source": [
    "**Making the Confusion Matrix**"
   ]
  },
  {
   "cell_type": "code",
   "execution_count": 30,
   "metadata": {
    "id": "zFhgq3Yufyh5"
   },
   "outputs": [
    {
     "name": "stdout",
     "output_type": "stream",
     "text": [
      "Confusion Matrix: \n",
      " [[73  6]\n",
      " [ 4 37]]\n"
     ]
    }
   ],
   "source": [
    "print(\"Confusion Matrix: \\n\",confusion_matrix(y_test, y_pred))"
   ]
  },
  {
   "cell_type": "code",
   "execution_count": 31,
   "metadata": {},
   "outputs": [
    {
     "name": "stdout",
     "output_type": "stream",
     "text": [
      "              precision    recall  f1-score   support\n",
      "\n",
      "           0       0.95      0.92      0.94        79\n",
      "           1       0.86      0.90      0.88        41\n",
      "\n",
      "    accuracy                           0.92       120\n",
      "   macro avg       0.90      0.91      0.91       120\n",
      "weighted avg       0.92      0.92      0.92       120\n",
      "\n"
     ]
    }
   ],
   "source": [
    "print(classification_report(y_test,y_pred))"
   ]
  },
  {
   "cell_type": "code",
   "execution_count": 32,
   "metadata": {},
   "outputs": [
    {
     "data": {
      "text/plain": [
       "0.9166666666666666"
      ]
     },
     "execution_count": 32,
     "metadata": {},
     "output_type": "execute_result"
    }
   ],
   "source": [
    "accuracy_score(y_test,y_pred)"
   ]
  },
  {
   "cell_type": "code",
   "execution_count": null,
   "metadata": {
    "id": "sp18d2Zhg4Me"
   },
   "outputs": [],
   "source": []
  }
 ],
 "metadata": {
  "colab": {
   "name": "KNN Assignment13.ipynb",
   "provenance": []
  },
  "kernelspec": {
   "display_name": "Python 3 (ipykernel)",
   "language": "python",
   "name": "python3"
  },
  "language_info": {
   "codemirror_mode": {
    "name": "ipython",
    "version": 3
   },
   "file_extension": ".py",
   "mimetype": "text/x-python",
   "name": "python",
   "nbconvert_exporter": "python",
   "pygments_lexer": "ipython3",
   "version": "3.9.12"
  }
 },
 "nbformat": 4,
 "nbformat_minor": 1
}
